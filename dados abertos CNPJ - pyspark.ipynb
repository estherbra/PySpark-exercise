{
 "cells": [
  {
   "cell_type": "code",
   "execution_count": 1,
   "metadata": {
    "scrolled": true
   },
   "outputs": [
    {
     "name": "stdout",
     "output_type": "stream",
     "text": [
      "Requirement already satisfied: pyspark in c:\\users\\esthe\\anaconda3\\lib\\site-packages (3.1.2)\n",
      "Requirement already satisfied: py4j==0.10.9 in c:\\users\\esthe\\anaconda3\\lib\\site-packages (from pyspark) (0.10.9)\n"
     ]
    },
    {
     "name": "stderr",
     "output_type": "stream",
     "text": [
      "WARNING: You are using pip version 21.3; however, version 22.0.4 is available.\n",
      "You should consider upgrading via the 'C:\\Users\\esthe\\anaconda3\\python.exe -m pip install --upgrade pip' command.\n"
     ]
    }
   ],
   "source": [
    "!pip install pyspark"
   ]
  },
  {
   "cell_type": "code",
   "execution_count": 2,
   "metadata": {},
   "outputs": [],
   "source": [
    "from pyspark.sql import SparkSession"
   ]
  },
  {
   "cell_type": "code",
   "execution_count": 3,
   "metadata": {},
   "outputs": [],
   "source": [
    "spark = SparkSession.builder.master(\"local[*]\").getOrCreate()"
   ]
  },
  {
   "cell_type": "code",
   "execution_count": 5,
   "metadata": {},
   "outputs": [],
   "source": [
    "df = (spark.read\n",
    "              .option(\"sep\", \";\")\n",
    "              .option(\"header\", \"false\")\n",
    "              .option(\"encoding\", \"UTF-8\")\n",
    "              .csv('../pyspark project/EMPRE.CSV')\n",
    "              )"
   ]
  },
  {
   "cell_type": "code",
   "execution_count": 6,
   "metadata": {},
   "outputs": [],
   "source": [
    "from pyspark.sql.functions import col, desc, count"
   ]
  },
  {
   "cell_type": "markdown",
   "metadata": {},
   "source": [
    "### Inspecionando os dados do dataframe"
   ]
  },
  {
   "cell_type": "code",
   "execution_count": 7,
   "metadata": {
    "scrolled": true
   },
   "outputs": [
    {
     "name": "stdout",
     "output_type": "stream",
     "text": [
      "+--------+--------------------------------------------------------+----+---+--------+---+----+\n",
      "|_c0     |_c1                                                     |_c2 |_c3|_c4     |_c5|_c6 |\n",
      "+--------+--------------------------------------------------------+----+---+--------+---+----+\n",
      "|04631962|CLINICA OFTALMOLOGICA DR VANIA XIMENES LTDA             |2062|49 |0,00    |05 |null|\n",
      "|04631963|EXPRESSO COSTA LTDA                                     |2062|49 |0,00    |01 |null|\n",
      "|04631964|PAULO BRAGA PROJETOS ESTRUTURAIS E CONSULTORIA S/S LTDA.|2232|49 |20000,00|01 |null|\n",
      "|04631965|COTERMAQ CONSERTOS E TERCEIRIZACAO DE MAQUINAS LTDA     |2062|49 |0,00    |03 |null|\n",
      "|04631967|ACACIA MEDICINA DO TRABALHO E SEGURANCA LTDA            |2240|49 |10000,00|03 |null|\n",
      "+--------+--------------------------------------------------------+----+---+--------+---+----+\n",
      "only showing top 5 rows\n",
      "\n"
     ]
    }
   ],
   "source": [
    "#Conteúdo completo das primeiras 5 linhas do dataframe.\n",
    "df.show(5, truncate=False)"
   ]
  },
  {
   "cell_type": "code",
   "execution_count": 8,
   "metadata": {
    "scrolled": false
   },
   "outputs": [
    {
     "name": "stdout",
     "output_type": "stream",
     "text": [
      "root\n",
      " |-- _c0: string (nullable = true)\n",
      " |-- _c1: string (nullable = true)\n",
      " |-- _c2: string (nullable = true)\n",
      " |-- _c3: string (nullable = true)\n",
      " |-- _c4: string (nullable = true)\n",
      " |-- _c5: string (nullable = true)\n",
      " |-- _c6: string (nullable = true)\n",
      "\n"
     ]
    }
   ],
   "source": [
    "df.printSchema()"
   ]
  },
  {
   "cell_type": "markdown",
   "metadata": {},
   "source": [
    "### Limpando e alterando o dataframe"
   ]
  },
  {
   "cell_type": "code",
   "execution_count": 9,
   "metadata": {},
   "outputs": [],
   "source": [
    "#Renomeando as colunas (headers) e substituindo valores \"null\" por vazio.\n",
    "df2 = df.withColumnRenamed(\"_c0\",\"cnpj_basico\") \\\n",
    "        .withColumnRenamed(\"_c1\",\"razao_social\") \\\n",
    "        .withColumnRenamed(\"_c2\",\"cod_natureza_juridica\") \\\n",
    "        .withColumnRenamed(\"_c3\",\"qualificacao_responsavel\") \\\n",
    "        .withColumnRenamed(\"_c4\",\"capital_social\")\\\n",
    "        .withColumnRenamed(\"_c5\",\"cod_porte_empresa\") \\\n",
    "        .withColumnRenamed(\"_c6\",\"ente_fed_responsavel\")"
   ]
  },
  {
   "cell_type": "code",
   "execution_count": 10,
   "metadata": {},
   "outputs": [
    {
     "data": {
      "text/plain": [
       "[('cnpj_basico', 'string'),\n",
       " ('razao_social', 'string'),\n",
       " ('cod_natureza_juridica', 'string'),\n",
       " ('qualificacao_responsavel', 'string'),\n",
       " ('capital_social', 'string'),\n",
       " ('cod_porte_empresa', 'string'),\n",
       " ('ente_fed_responsavel', 'string')]"
      ]
     },
     "execution_count": 10,
     "metadata": {},
     "output_type": "execute_result"
    }
   ],
   "source": [
    "#Checando tipos de dados\n",
    "df2.dtypes"
   ]
  },
  {
   "cell_type": "markdown",
   "metadata": {},
   "source": [
    "### Executando Queries "
   ]
  },
  {
   "cell_type": "markdown",
   "metadata": {},
   "source": [
    "#### A query abaixo registra na coluna \"count\" a quantidade de vezes em que os campos da coluna \"cod_porte_empresa\" se repetem, considerando que cada código representa:\n",
    "<br> 00 – NÃO INFORMADO </br>\n",
    "<br> 01 - MICRO EMPRESA </br>\n",
    "<br> 03 - EMPRESA DE PEQUENO PORTE </br>\n",
    "<br> 05 - DEMAIS </br>\n",
    "#### Conclui-se que o maior número de registros é de micro empresas, com 2434195 registros."
   ]
  },
  {
   "cell_type": "code",
   "execution_count": 11,
   "metadata": {
    "scrolled": false
   },
   "outputs": [
    {
     "data": {
      "text/plain": [
       "DataFrame[cod_porte_empresa: string, count: bigint]"
      ]
     },
     "execution_count": 11,
     "metadata": {},
     "output_type": "execute_result"
    }
   ],
   "source": [
    "df2.groupBy(col('cod_porte_empresa')).count().sort(desc(\"count\"))"
   ]
  },
  {
   "cell_type": "markdown",
   "metadata": {},
   "source": [
    "#### As consultas abaixo calculam o valor máximo e o mínimo existentes na coluna referente ao capital social da empresa"
   ]
  },
  {
   "cell_type": "code",
   "execution_count": 12,
   "metadata": {},
   "outputs": [
    {
     "name": "stdout",
     "output_type": "stream",
     "text": [
      "Row(max(capital_social)='9999999,00')\n"
     ]
    }
   ],
   "source": [
    "max_value = df2.agg({\"capital_social\": \"max\"}).collect()[0]\n",
    "print (max_value)"
   ]
  },
  {
   "cell_type": "code",
   "execution_count": 13,
   "metadata": {},
   "outputs": [
    {
     "name": "stdout",
     "output_type": "stream",
     "text": [
      "Row(min(capital_social)='0,00')\n"
     ]
    }
   ],
   "source": [
    "min_value = df2.agg({\"capital_social\": \"min\"}).collect()[0]\n",
    "print (min_value)"
   ]
  }
 ],
 "metadata": {
  "kernelspec": {
   "display_name": "Python 3",
   "language": "python",
   "name": "python3"
  },
  "language_info": {
   "codemirror_mode": {
    "name": "ipython",
    "version": 3
   },
   "file_extension": ".py",
   "mimetype": "text/x-python",
   "name": "python",
   "nbconvert_exporter": "python",
   "pygments_lexer": "ipython3",
   "version": "3.8.5"
  }
 },
 "nbformat": 4,
 "nbformat_minor": 4
}
